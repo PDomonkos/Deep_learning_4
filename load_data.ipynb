{
 "cells": [
  {
   "cell_type": "code",
   "execution_count": 1,
   "metadata": {},
   "outputs": [],
   "source": [
    "# download the validation.zip and extract from here\n",
    "# from here https://www.figure-eight.com/dataset/open-images-annotated-with-bounding-boxes/\n",
    "\n",
    "# the generated folders will be:\n",
    "# dataset:\n",
    "    # train\n",
    "        # 0\n",
    "        # 1\n",
    "        # 2\n",
    "    # test:\n",
    "        # 0\n",
    "        # 1\n",
    "        # 2\n",
    "    # valid:\n",
    "        # 0\n",
    "        # 1\n",
    "        # 2"
   ]
  },
  {
   "cell_type": "code",
   "execution_count": 2,
   "metadata": {},
   "outputs": [
    {
     "name": "stderr",
     "output_type": "stream",
     "text": [
      "C:\\Conda\\envs\\Tensorflow-GPU\\lib\\site-packages\\IPython\\core\\interactiveshell.py:3049: DtypeWarning: Columns (3) have mixed types. Specify dtype option on import or set low_memory=False.\n",
      "  interactivity=interactivity, compiler=compiler, result=result)\n"
     ]
    },
    {
     "data": {
      "text/html": [
       "<div>\n",
       "<style scoped>\n",
       "    .dataframe tbody tr th:only-of-type {\n",
       "        vertical-align: middle;\n",
       "    }\n",
       "\n",
       "    .dataframe tbody tr th {\n",
       "        vertical-align: top;\n",
       "    }\n",
       "\n",
       "    .dataframe thead th {\n",
       "        text-align: right;\n",
       "    }\n",
       "</style>\n",
       "<table border=\"1\" class=\"dataframe\">\n",
       "  <thead>\n",
       "    <tr style=\"text-align: right;\">\n",
       "      <th></th>\n",
       "      <th>ImageID</th>\n",
       "      <th>source</th>\n",
       "      <th>LabelName</th>\n",
       "      <th>Confidence</th>\n",
       "    </tr>\n",
       "  </thead>\n",
       "  <tbody>\n",
       "    <tr>\n",
       "      <th>0</th>\n",
       "      <td>ImageID</td>\n",
       "      <td>Source</td>\n",
       "      <td>LabelName</td>\n",
       "      <td>Confidence</td>\n",
       "    </tr>\n",
       "    <tr>\n",
       "      <th>1</th>\n",
       "      <td>0001eeaf4aed83f9</td>\n",
       "      <td>verification</td>\n",
       "      <td>/m/0cmf2</td>\n",
       "      <td>1</td>\n",
       "    </tr>\n",
       "    <tr>\n",
       "      <th>2</th>\n",
       "      <td>0004886b7d043cfd</td>\n",
       "      <td>verification</td>\n",
       "      <td>/m/01g317</td>\n",
       "      <td>0</td>\n",
       "    </tr>\n",
       "    <tr>\n",
       "      <th>3</th>\n",
       "      <td>0004886b7d043cfd</td>\n",
       "      <td>verification</td>\n",
       "      <td>/m/04hgtk</td>\n",
       "      <td>0</td>\n",
       "    </tr>\n",
       "    <tr>\n",
       "      <th>4</th>\n",
       "      <td>0004886b7d043cfd</td>\n",
       "      <td>verification</td>\n",
       "      <td>/m/09j2d</td>\n",
       "      <td>0</td>\n",
       "    </tr>\n",
       "  </tbody>\n",
       "</table>\n",
       "</div>"
      ],
      "text/plain": [
       "            ImageID        source  LabelName  Confidence\n",
       "0           ImageID        Source  LabelName  Confidence\n",
       "1  0001eeaf4aed83f9  verification   /m/0cmf2           1\n",
       "2  0004886b7d043cfd  verification  /m/01g317           0\n",
       "3  0004886b7d043cfd  verification  /m/04hgtk           0\n",
       "4  0004886b7d043cfd  verification   /m/09j2d           0"
      ]
     },
     "execution_count": 2,
     "metadata": {},
     "output_type": "execute_result"
    }
   ],
   "source": [
    "import numpy as np\n",
    "import pandas as pd\n",
    "import shutil\n",
    "import os\n",
    "\n",
    "# read the csv, that contains the names and labels of the images\n",
    "df = pd.read_csv('validation-annotations-human-imagelabels-boxable.csv', header=None)\n",
    "df = df.iloc[:,0:4]\n",
    "df.columns = ['ImageID','source','LabelName','Confidence']\n",
    "df.head()"
   ]
  },
  {
   "cell_type": "code",
   "execution_count": 3,
   "metadata": {},
   "outputs": [],
   "source": [
    "# keep only images with confidence\n",
    "df = df.loc[df.Confidence == 1]"
   ]
  },
  {
   "cell_type": "code",
   "execution_count": 4,
   "metadata": {},
   "outputs": [
    {
     "data": {
      "text/html": [
       "<div>\n",
       "<style scoped>\n",
       "    .dataframe tbody tr th:only-of-type {\n",
       "        vertical-align: middle;\n",
       "    }\n",
       "\n",
       "    .dataframe tbody tr th {\n",
       "        vertical-align: top;\n",
       "    }\n",
       "\n",
       "    .dataframe thead th {\n",
       "        text-align: right;\n",
       "    }\n",
       "</style>\n",
       "<table border=\"1\" class=\"dataframe\">\n",
       "  <thead>\n",
       "    <tr style=\"text-align: right;\">\n",
       "      <th></th>\n",
       "      <th>LabelName</th>\n",
       "      <th>ImageID</th>\n",
       "      <th>source</th>\n",
       "      <th>Confidence</th>\n",
       "    </tr>\n",
       "  </thead>\n",
       "  <tbody>\n",
       "    <tr>\n",
       "      <th>0</th>\n",
       "      <td>/m/09j2d</td>\n",
       "      <td>3568</td>\n",
       "      <td>3568</td>\n",
       "      <td>3568</td>\n",
       "    </tr>\n",
       "    <tr>\n",
       "      <th>1</th>\n",
       "      <td>/m/01g317</td>\n",
       "      <td>3554</td>\n",
       "      <td>3554</td>\n",
       "      <td>3554</td>\n",
       "    </tr>\n",
       "    <tr>\n",
       "      <th>2</th>\n",
       "      <td>/m/04rky</td>\n",
       "      <td>3049</td>\n",
       "      <td>3049</td>\n",
       "      <td>3049</td>\n",
       "    </tr>\n",
       "    <tr>\n",
       "      <th>3</th>\n",
       "      <td>/m/02p0tk3</td>\n",
       "      <td>2738</td>\n",
       "      <td>2738</td>\n",
       "      <td>2738</td>\n",
       "    </tr>\n",
       "    <tr>\n",
       "      <th>4</th>\n",
       "      <td>/m/05s2s</td>\n",
       "      <td>2585</td>\n",
       "      <td>2585</td>\n",
       "      <td>2585</td>\n",
       "    </tr>\n",
       "  </tbody>\n",
       "</table>\n",
       "</div>"
      ],
      "text/plain": [
       "    LabelName  ImageID  source  Confidence\n",
       "0    /m/09j2d     3568    3568        3568\n",
       "1   /m/01g317     3554    3554        3554\n",
       "2    /m/04rky     3049    3049        3049\n",
       "3  /m/02p0tk3     2738    2738        2738\n",
       "4    /m/05s2s     2585    2585        2585"
      ]
     },
     "execution_count": 4,
     "metadata": {},
     "output_type": "execute_result"
    }
   ],
   "source": [
    "# group by labels, and order them by frequency\n",
    "df2 = df.groupby(\"LabelName\").count().sort_values(by=['ImageID'], ascending=False).reset_index()\n",
    "df2.head()"
   ]
  },
  {
   "cell_type": "code",
   "execution_count": 5,
   "metadata": {},
   "outputs": [
    {
     "name": "stdout",
     "output_type": "stream",
     "text": [
      "['/m/0k4j' '/m/05y5lj' '/m/0bt9lr']\n"
     ]
    }
   ],
   "source": [
    "# select 3 labels\n",
    "# ~car\n",
    "# ~sport\n",
    "# ~dog\n",
    "labels = df2.iloc[5:6,0].values\n",
    "labels = np.append(labels,df2.iloc[30:31,0].values)\n",
    "labels = np.append(labels,df2.iloc[29:30,0].values)\n",
    "print(labels)"
   ]
  },
  {
   "cell_type": "code",
   "execution_count": 6,
   "metadata": {},
   "outputs": [
    {
     "name": "stdout",
     "output_type": "stream",
     "text": [
      "(3, 600)\n"
     ]
    }
   ],
   "source": [
    "# make 3 list of image ID-s (600 images in each group)\n",
    "groups = np.array((df.loc[df.LabelName == labels[0]].iloc[:600,0].values))\n",
    "groups = np.vstack((groups,np.array((df.loc[df.LabelName == labels[1]].iloc[:600,0].values))))\n",
    "groups = np.vstack((groups,np.array((df.loc[df.LabelName == labels[2]].iloc[:600,0].values))))\n",
    "print(groups.shape)"
   ]
  },
  {
   "cell_type": "code",
   "execution_count": 7,
   "metadata": {},
   "outputs": [],
   "source": [
    "# copy the images to 3 distinct folders\n",
    "for g in range(3):\n",
    "    for i in range(400):\n",
    "        shutil.copy('validation/' + groups[g,i] + '.jpg', 'dataset/train/' + str(g)+ '/' + str(i) + '.jpg')\n",
    "    for i in range(100):\n",
    "        shutil.copy('validation/' + groups[g,i+400] + '.jpg', 'dataset/valid/' + str(g)+ '/' + str(i) + '.jpg') \n",
    "    for i in range(100):\n",
    "        shutil.copy('validation/' + groups[g,i+500] + '.jpg', 'dataset/test/' + str(g)+ '/' + str(i) + '.jpg')"
   ]
  },
  {
   "cell_type": "code",
   "execution_count": null,
   "metadata": {},
   "outputs": [],
   "source": []
  }
 ],
 "metadata": {
  "kernelspec": {
   "display_name": "Python 3",
   "language": "python",
   "name": "python3"
  },
  "language_info": {
   "codemirror_mode": {
    "name": "ipython",
    "version": 3
   },
   "file_extension": ".py",
   "mimetype": "text/x-python",
   "name": "python",
   "nbconvert_exporter": "python",
   "pygments_lexer": "ipython3",
   "version": "3.7.3"
  }
 },
 "nbformat": 4,
 "nbformat_minor": 2
}
